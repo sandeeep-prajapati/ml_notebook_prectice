{
 "cells": [
  {
   "cell_type": "code",
   "execution_count": 1,
   "id": "ab312a79",
   "metadata": {},
   "outputs": [
    {
     "name": "stdout",
     "output_type": "stream",
     "text": [
      "b is the greatest number\n"
     ]
    }
   ],
   "source": [
    "a = 30\n",
    "b = 50\n",
    "if(a>b):\n",
    "    print('a is the greatest number')\n",
    "else:\n",
    "    print('b is the greatest number')"
   ]
  },
  {
   "cell_type": "code",
   "execution_count": 2,
   "id": "0268086d",
   "metadata": {},
   "outputs": [
    {
     "name": "stdout",
     "output_type": "stream",
     "text": [
      "Enter the first number : 10\n",
      "Enter the second number : 12\n",
      "Second number is the greatest\n"
     ]
    }
   ],
   "source": [
    "a = int(input('Enter the first number : '))\n",
    "b = int(input('Enter the second number : '))\n",
    "if(a>=b):\n",
    "    print('First number is greatest')\n",
    "else:\n",
    "    print('Second number is the greatest')"
   ]
  },
  {
   "cell_type": "code",
   "execution_count": 4,
   "id": "c5a604ef",
   "metadata": {},
   "outputs": [
    {
     "name": "stdout",
     "output_type": "stream",
     "text": [
      "c is the greatest number\n"
     ]
    }
   ],
   "source": [
    "a = 15\n",
    "b = 25\n",
    "c = 30\n",
    "if(b<a>c):\n",
    "    print('a is the greatest number')\n",
    "elif(a<b>c):\n",
    "    print('b is the greatest number')\n",
    "else:\n",
    "    print('c is the greatest number')"
   ]
  },
  {
   "cell_type": "code",
   "execution_count": null,
   "id": "d0348e66",
   "metadata": {},
   "outputs": [],
   "source": []
  }
 ],
 "metadata": {
  "kernelspec": {
   "display_name": "Python 3 (ipykernel)",
   "language": "python",
   "name": "python3"
  },
  "language_info": {
   "codemirror_mode": {
    "name": "ipython",
    "version": 3
   },
   "file_extension": ".py",
   "mimetype": "text/x-python",
   "name": "python",
   "nbconvert_exporter": "python",
   "pygments_lexer": "ipython3",
   "version": "3.11.3"
  }
 },
 "nbformat": 4,
 "nbformat_minor": 5
}

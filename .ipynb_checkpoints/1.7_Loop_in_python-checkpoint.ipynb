{
 "cells": [
  {
   "cell_type": "code",
   "execution_count": 2,
   "id": "9915b6e9",
   "metadata": {},
   "outputs": [
    {
     "name": "stdout",
     "output_type": "stream",
     "text": [
      "Enter the price of the laptop : 1\n",
      "Enter the price of the laptop : 2\n",
      "Enter the price of the laptop : 3\n",
      "Enter the price of the laptop : 4\n",
      "Enter the price of the laptop : 5\n"
     ]
    }
   ],
   "source": [
    "laptop1 = int(input('Enter the price of the laptop : '))\n",
    "laptop2 = int(input('Enter the price of the laptop : '))\n",
    "laptop3 = int(input('Enter the price of the laptop : '))\n",
    "laptop4 = int(input('Enter the price of the laptop : '))\n",
    "laptop5 = int(input('Enter the price of the laptop : '))"
   ]
  },
  {
   "cell_type": "code",
   "execution_count": 5,
   "id": "42c5576e",
   "metadata": {},
   "outputs": [
    {
     "name": "stdout",
     "output_type": "stream",
     "text": [
      "Enter the price of th laptop : 1\n",
      "Enter the price of th laptop : 2\n",
      "Enter the price of th laptop : 3\n",
      "Enter the price of th laptop : 4\n",
      "Enter the price of th laptop : 5\n",
      "Enter the price of th laptop : 6\n",
      "Enter the price of th laptop : 7\n"
     ]
    }
   ],
   "source": [
    "for i in range(7):\n",
    "    laptop_price = int(input('Enter the price of th laptop : '))"
   ]
  },
  {
   "cell_type": "code",
   "execution_count": 7,
   "id": "a618f367",
   "metadata": {},
   "outputs": [
    {
     "name": "stdout",
     "output_type": "stream",
     "text": [
      "50\n",
      "100\n",
      "150\n",
      "200\n"
     ]
    }
   ],
   "source": [
    "numbers = [50,100,150,200]\n",
    "print(numbers[0])\n",
    "print(numbers[1])\n",
    "print(numbers[2])\n",
    "print(numbers[3])"
   ]
  },
  {
   "cell_type": "code",
   "execution_count": 9,
   "id": "cfb613ae",
   "metadata": {},
   "outputs": [
    {
     "name": "stdout",
     "output_type": "stream",
     "text": [
      "50\n",
      "100\n",
      "150\n",
      "200\n"
     ]
    }
   ],
   "source": [
    "numbers = [50, 100, 150, 200]\n",
    "\n",
    "for i in numbers:\n",
    "  print(i)"
   ]
  },
  {
   "cell_type": "code",
   "execution_count": 10,
   "id": "8696e4bc",
   "metadata": {},
   "outputs": [
    {
     "name": "stdout",
     "output_type": "stream",
     "text": [
      "0\n",
      "1\n",
      "2\n",
      "3\n",
      "4\n",
      "5\n",
      "6\n",
      "7\n",
      "8\n",
      "9\n"
     ]
    }
   ],
   "source": [
    "i = 0\n",
    "\n",
    "while i<10:\n",
    "  print(i)\n",
    "  i += 1   "
   ]
  },
  {
   "cell_type": "code",
   "execution_count": 13,
   "id": "1763b593",
   "metadata": {},
   "outputs": [],
   "source": [
    "i = 5\n",
    "\n",
    "while i<3:\n",
    "  print(i)\n",
    "  i +=1"
   ]
  },
  {
   "cell_type": "code",
   "execution_count": null,
   "id": "53cf90da",
   "metadata": {},
   "outputs": [],
   "source": []
  }
 ],
 "metadata": {
  "kernelspec": {
   "display_name": "Python 3 (ipykernel)",
   "language": "python",
   "name": "python3"
  },
  "language_info": {
   "codemirror_mode": {
    "name": "ipython",
    "version": 3
   },
   "file_extension": ".py",
   "mimetype": "text/x-python",
   "name": "python",
   "nbconvert_exporter": "python",
   "pygments_lexer": "ipython3",
   "version": "3.11.3"
  }
 },
 "nbformat": 4,
 "nbformat_minor": 5
}
